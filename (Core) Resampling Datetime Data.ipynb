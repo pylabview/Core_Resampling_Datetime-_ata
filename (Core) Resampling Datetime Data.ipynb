{
 "cells": [
  {
   "cell_type": "markdown",
   "id": "bbe31ad4-a47a-45cd-a4e8-c2536d37dfa9",
   "metadata": {},
   "source": [
    "# (Core) Resampling Datetime Data\n",
    "\n",
    "Rodrigo Arguello-Serrano\n",
    "\n",
    "## Part 1) Load the data and make a datetime index.\n",
    "- Use the modified version of the data provided here:\n",
    "     - Share URL: https://docs.google.com/spreadsheets/d/1J2hEGA1-ZOdXOc1Go2AjB7xShq-nAvIDpBz_XRZscHU/edit?usp=sharing\n",
    "     - Raw URL:\n",
    "https://docs.google.com/spreadsheets/d/e/2PACX-1vT_jChgNsQbHbg4TGepzIqk8XC9DTIKmyyxb1upo5cfZCgbfIUQc2ZC0YMzuU5uApP140Ob49KBjdqh/pub?gid=1198589591&single=true&output=csv \n",
    "\n",
    ">You must first load in the data and create a datetime index.\n",
    "\n",
    "1. Convert the date column to datetime dtype.\n",
    "2. Set the date column as the index.\n",
    "3. Filter out only the required data:\n",
    "    - Keep only data from the year 2000 or later.\n",
    "    - Keep only the following features:\n",
    "        - precipitation\n",
    "        - mean_temp\n",
    "        - min_temp\n",
    "        - max_temp\n",
    "        - snow_depth\n",
    "4. Impute any missing values.\n",
    " - Think about each feature and what imputation method makes sense. You may not be able to use the same method for every feature!"
   ]
  },
  {
   "cell_type": "markdown",
   "id": "e65e9db4-1ad3-4cbe-a55e-dabd3ec7dc96",
   "metadata": {},
   "source": [
    "## Imports"
   ]
  },
  {
   "cell_type": "code",
   "execution_count": 1,
   "id": "5d735e3f-beb5-4d67-8de9-b3444d005778",
   "metadata": {},
   "outputs": [],
   "source": [
    "import pandas as pd\n",
    "import matplotlib.pyplot as plt\n",
    "import seaborn as sns\n",
    "from matplotlib import dates as mdates\n",
    "\n",
    "#import tick customization tools\n",
    "import matplotlib.ticker as mticks\n",
    "import matplotlib.dates as mdates\n",
    "\n",
    "url =\"london_weather_MODIFIED.xlsx\"\n",
    "df = pd.read_excel(url)\n",
    "df.head(2)\n",
    "df.name = 'london_weather_MODIFIED'"
   ]
  },
  {
   "cell_type": "markdown",
   "id": "ff378abc-b61f-4e65-974c-d256848905df",
   "metadata": {},
   "source": [
    "## Helper Function"
   ]
  },
  {
   "cell_type": "code",
   "execution_count": 107,
   "id": "eaac0477-5578-4738-9d21-ec710e16275f",
   "metadata": {},
   "outputs": [],
   "source": [
    "def plot_dates(ts,\n",
    "               figsize=(12,4),\n",
    "               xtick_fontsize='large', \n",
    "               xtick_fontweight='bold',\n",
    "               title= None, \n",
    "               format_dict=None,):## Make the fig and axis first\n",
    "    if title is None:\n",
    "        title = ts.name\n",
    "    # plot the time series with pandas\n",
    "    fig, ax = plt.subplots(figsize=figsize)\n",
    "    ts.plot(ax=ax, title=title);\n",
    "    \n",
    "    if format_dict is not None:\n",
    "        ## creating our tick locators and formatters\n",
    "        ## for minor month ticks\n",
    "        # create the locator to place ticks every 3 months.\n",
    "        loc_months = mdates.MonthLocator(interval= format_dict['minor_loc_month'])\n",
    "        fmt_months = mdates.DateFormatter(format_dict['minor_fmt_month'])\n",
    "        # ## for major year ticks\n",
    "        if format_dict['major_loc_year']:\n",
    "            loc_year = mdates.YearLocator()\n",
    "            fmt_year = mdates.DateFormatter(format_dict['major_fmt_year'])\n",
    "\n",
    "        ## Change the font of the major ticks to stand out\n",
    "        ax.set_xticks(ax.get_xticks())\n",
    "        ax.set_xticklabels(ax.get_xticklabels(), \n",
    "                           fontsize=xtick_fontsize, \n",
    "                           fontweight=xtick_fontweight) \n",
    "\n",
    "        ## customize minor ticks\n",
    "        ax.xaxis.set_minor_locator(loc_months)\n",
    "        ax.xaxis.set_minor_formatter(fmt_months)\n",
    "        # ## customize major ticks\n",
    "        ax.xaxis.set_major_locator(loc_year)\n",
    "        ax.xaxis.set_major_formatter(fmt_year)\n",
    "        ## Making major/minor gridlines visually distinct\n",
    "        ax.grid(which='minor',axis='x',ls=\":\")\n",
    "        ax.grid(which='major',axis='x',color='k')\n",
    "        ## rotate the dates\n",
    "        fig.autofmt_xdate(which='major',rotation=45,ha='center')\n",
    "    return fig,ax"
   ]
  },
  {
   "cell_type": "markdown",
   "id": "cbf38b22-34e0-4574-9352-c213e7cfbd02",
   "metadata": {},
   "source": [
    "## 1) Convert the date column to datetime dtype. "
   ]
  },
  {
   "cell_type": "code",
   "execution_count": 3,
   "id": "0a32907b-a55d-4fed-b035-b982534c8d1a",
   "metadata": {},
   "outputs": [
    {
     "data": {
      "text/plain": [
       "0       1979-01-01\n",
       "1       1979-01-02\n",
       "2       1979-01-03\n",
       "3       1979-01-04\n",
       "4       1979-01-05\n",
       "           ...    \n",
       "15336   2020-12-27\n",
       "15337   2020-12-28\n",
       "15338   2020-12-29\n",
       "15339   2020-12-30\n",
       "15340   2020-12-31\n",
       "Name: date, Length: 15341, dtype: datetime64[ns]"
      ]
     },
     "execution_count": 3,
     "metadata": {},
     "output_type": "execute_result"
    }
   ],
   "source": [
    "df['date'] = pd.to_datetime(df['date'], format='%Y%m%d')\n",
    "df['date']"
   ]
  },
  {
   "cell_type": "markdown",
   "id": "205cdaf6-cad8-4e91-b752-79a2b3ae491b",
   "metadata": {},
   "source": [
    "## 2) Set the date column as the index. "
   ]
  },
  {
   "cell_type": "code",
   "execution_count": 4,
   "id": "80b20664-28e0-4377-9786-05e77e5d4729",
   "metadata": {},
   "outputs": [
    {
     "data": {
      "text/html": [
       "<div>\n",
       "<style scoped>\n",
       "    .dataframe tbody tr th:only-of-type {\n",
       "        vertical-align: middle;\n",
       "    }\n",
       "\n",
       "    .dataframe tbody tr th {\n",
       "        vertical-align: top;\n",
       "    }\n",
       "\n",
       "    .dataframe thead th {\n",
       "        text-align: right;\n",
       "    }\n",
       "</style>\n",
       "<table border=\"1\" class=\"dataframe\">\n",
       "  <thead>\n",
       "    <tr style=\"text-align: right;\">\n",
       "      <th></th>\n",
       "      <th>cloud_cover</th>\n",
       "      <th>sunshine</th>\n",
       "      <th>global_radiation</th>\n",
       "      <th>max_temp</th>\n",
       "      <th>mean_temp</th>\n",
       "      <th>min_temp</th>\n",
       "      <th>precipitation</th>\n",
       "      <th>pressure</th>\n",
       "      <th>snow_depth</th>\n",
       "    </tr>\n",
       "    <tr>\n",
       "      <th>date</th>\n",
       "      <th></th>\n",
       "      <th></th>\n",
       "      <th></th>\n",
       "      <th></th>\n",
       "      <th></th>\n",
       "      <th></th>\n",
       "      <th></th>\n",
       "      <th></th>\n",
       "      <th></th>\n",
       "    </tr>\n",
       "  </thead>\n",
       "  <tbody>\n",
       "    <tr>\n",
       "      <th>1979-01-01</th>\n",
       "      <td>2.0</td>\n",
       "      <td>7.0</td>\n",
       "      <td>52.0</td>\n",
       "      <td>2.3</td>\n",
       "      <td>-4.1</td>\n",
       "      <td>-7.5</td>\n",
       "      <td>0.4</td>\n",
       "      <td>101900.0</td>\n",
       "      <td>9.0</td>\n",
       "    </tr>\n",
       "    <tr>\n",
       "      <th>1979-01-02</th>\n",
       "      <td>6.0</td>\n",
       "      <td>1.7</td>\n",
       "      <td>27.0</td>\n",
       "      <td>1.6</td>\n",
       "      <td>-2.6</td>\n",
       "      <td>-7.5</td>\n",
       "      <td>0.0</td>\n",
       "      <td>102530.0</td>\n",
       "      <td>8.0</td>\n",
       "    </tr>\n",
       "  </tbody>\n",
       "</table>\n",
       "</div>"
      ],
      "text/plain": [
       "            cloud_cover  sunshine  global_radiation  max_temp  mean_temp  \\\n",
       "date                                                                       \n",
       "1979-01-01          2.0       7.0              52.0       2.3       -4.1   \n",
       "1979-01-02          6.0       1.7              27.0       1.6       -2.6   \n",
       "\n",
       "            min_temp  precipitation  pressure  snow_depth  \n",
       "date                                                       \n",
       "1979-01-01      -7.5            0.4  101900.0         9.0  \n",
       "1979-01-02      -7.5            0.0  102530.0         8.0  "
      ]
     },
     "execution_count": 4,
     "metadata": {},
     "output_type": "execute_result"
    }
   ],
   "source": [
    "df = df.set_index('date')\n",
    "df.head(2)"
   ]
  },
  {
   "cell_type": "markdown",
   "id": "0c9600a6-ebc4-4ce4-901c-3e43f0f703eb",
   "metadata": {},
   "source": [
    "## 3) Filter out only the required data:\n",
    "\n",
    "- Keep only data from the year 2000 or later.\n",
    "- Keep only the following features:\n",
    "    - precipitation\n",
    "    - mean_temp\n",
    "    - min_temp \n",
    "    - max_temp \n",
    "    - snow_depth"
   ]
  },
  {
   "cell_type": "code",
   "execution_count": 5,
   "id": "f79d7486-4dc2-4796-b6cc-8c0ddd8f4e4f",
   "metadata": {},
   "outputs": [
    {
     "data": {
      "text/html": [
       "<div>\n",
       "<style scoped>\n",
       "    .dataframe tbody tr th:only-of-type {\n",
       "        vertical-align: middle;\n",
       "    }\n",
       "\n",
       "    .dataframe tbody tr th {\n",
       "        vertical-align: top;\n",
       "    }\n",
       "\n",
       "    .dataframe thead th {\n",
       "        text-align: right;\n",
       "    }\n",
       "</style>\n",
       "<table border=\"1\" class=\"dataframe\">\n",
       "  <thead>\n",
       "    <tr style=\"text-align: right;\">\n",
       "      <th></th>\n",
       "      <th>precipitation</th>\n",
       "      <th>mean_temp</th>\n",
       "      <th>min_temp</th>\n",
       "      <th>max_temp</th>\n",
       "      <th>snow_depth</th>\n",
       "    </tr>\n",
       "    <tr>\n",
       "      <th>date</th>\n",
       "      <th></th>\n",
       "      <th></th>\n",
       "      <th></th>\n",
       "      <th></th>\n",
       "      <th></th>\n",
       "    </tr>\n",
       "  </thead>\n",
       "  <tbody>\n",
       "    <tr>\n",
       "      <th>1979-01-01</th>\n",
       "      <td>0.4</td>\n",
       "      <td>-4.1</td>\n",
       "      <td>-7.5</td>\n",
       "      <td>2.3</td>\n",
       "      <td>9.0</td>\n",
       "    </tr>\n",
       "    <tr>\n",
       "      <th>1979-01-02</th>\n",
       "      <td>0.0</td>\n",
       "      <td>-2.6</td>\n",
       "      <td>-7.5</td>\n",
       "      <td>1.6</td>\n",
       "      <td>8.0</td>\n",
       "    </tr>\n",
       "    <tr>\n",
       "      <th>1979-01-03</th>\n",
       "      <td>0.0</td>\n",
       "      <td>-2.8</td>\n",
       "      <td>-7.2</td>\n",
       "      <td>1.3</td>\n",
       "      <td>4.0</td>\n",
       "    </tr>\n",
       "    <tr>\n",
       "      <th>1979-01-04</th>\n",
       "      <td>0.0</td>\n",
       "      <td>-2.6</td>\n",
       "      <td>-6.5</td>\n",
       "      <td>-0.3</td>\n",
       "      <td>2.0</td>\n",
       "    </tr>\n",
       "    <tr>\n",
       "      <th>1979-01-05</th>\n",
       "      <td>0.0</td>\n",
       "      <td>-0.8</td>\n",
       "      <td>-1.4</td>\n",
       "      <td>5.6</td>\n",
       "      <td>1.0</td>\n",
       "    </tr>\n",
       "    <tr>\n",
       "      <th>...</th>\n",
       "      <td>...</td>\n",
       "      <td>...</td>\n",
       "      <td>...</td>\n",
       "      <td>...</td>\n",
       "      <td>...</td>\n",
       "    </tr>\n",
       "    <tr>\n",
       "      <th>2020-12-27</th>\n",
       "      <td>2.0</td>\n",
       "      <td>7.5</td>\n",
       "      <td>7.6</td>\n",
       "      <td>7.5</td>\n",
       "      <td>NaN</td>\n",
       "    </tr>\n",
       "    <tr>\n",
       "      <th>2020-12-28</th>\n",
       "      <td>0.2</td>\n",
       "      <td>1.1</td>\n",
       "      <td>-1.3</td>\n",
       "      <td>3.6</td>\n",
       "      <td>NaN</td>\n",
       "    </tr>\n",
       "    <tr>\n",
       "      <th>2020-12-29</th>\n",
       "      <td>0.0</td>\n",
       "      <td>2.6</td>\n",
       "      <td>1.1</td>\n",
       "      <td>4.1</td>\n",
       "      <td>NaN</td>\n",
       "    </tr>\n",
       "    <tr>\n",
       "      <th>2020-12-30</th>\n",
       "      <td>0.0</td>\n",
       "      <td>2.7</td>\n",
       "      <td>-0.1</td>\n",
       "      <td>5.6</td>\n",
       "      <td>NaN</td>\n",
       "    </tr>\n",
       "    <tr>\n",
       "      <th>2020-12-31</th>\n",
       "      <td>0.0</td>\n",
       "      <td>-0.8</td>\n",
       "      <td>-3.1</td>\n",
       "      <td>1.5</td>\n",
       "      <td>NaN</td>\n",
       "    </tr>\n",
       "  </tbody>\n",
       "</table>\n",
       "<p>15341 rows × 5 columns</p>\n",
       "</div>"
      ],
      "text/plain": [
       "            precipitation  mean_temp  min_temp  max_temp  snow_depth\n",
       "date                                                                \n",
       "1979-01-01            0.4       -4.1      -7.5       2.3         9.0\n",
       "1979-01-02            0.0       -2.6      -7.5       1.6         8.0\n",
       "1979-01-03            0.0       -2.8      -7.2       1.3         4.0\n",
       "1979-01-04            0.0       -2.6      -6.5      -0.3         2.0\n",
       "1979-01-05            0.0       -0.8      -1.4       5.6         1.0\n",
       "...                   ...        ...       ...       ...         ...\n",
       "2020-12-27            2.0        7.5       7.6       7.5         NaN\n",
       "2020-12-28            0.2        1.1      -1.3       3.6         NaN\n",
       "2020-12-29            0.0        2.6       1.1       4.1         NaN\n",
       "2020-12-30            0.0        2.7      -0.1       5.6         NaN\n",
       "2020-12-31            0.0       -0.8      -3.1       1.5         NaN\n",
       "\n",
       "[15341 rows x 5 columns]"
      ]
     },
     "execution_count": 5,
     "metadata": {},
     "output_type": "execute_result"
    }
   ],
   "source": [
    "df = df.loc[:, ['precipitation', 'mean_temp', 'min_temp', \n",
    "                      'max_temp', 'snow_depth']]\n",
    "\n",
    "df"
   ]
  },
  {
   "cell_type": "markdown",
   "id": "3fc7f67e-6316-4e56-ac15-da3002b4bf70",
   "metadata": {},
   "source": [
    "## 4) Impute any missing values."
   ]
  },
  {
   "cell_type": "code",
   "execution_count": 6,
   "id": "2b385b4e-1bc1-4c57-a6ad-7d49f0a4d7cb",
   "metadata": {},
   "outputs": [
    {
     "data": {
      "text/plain": [
       "precipitation     390\n",
       "mean_temp         419\n",
       "min_temp          386\n",
       "max_temp          390\n",
       "snow_depth       1752\n",
       "dtype: int64"
      ]
     },
     "execution_count": 6,
     "metadata": {},
     "output_type": "execute_result"
    }
   ],
   "source": [
    "df.isna().sum()"
   ]
  },
  {
   "cell_type": "code",
   "execution_count": 7,
   "id": "676986b0-1a0f-4352-b3dc-cc260cf6d683",
   "metadata": {},
   "outputs": [],
   "source": [
    "## interpolating temperature measures\n",
    "df['mean_temp'] = df['mean_temp'].interpolate()\n",
    "df['max_temp'] = df['max_temp'].interpolate()\n",
    "df['min_temp'] = df['min_temp'].interpolate()"
   ]
  },
  {
   "cell_type": "code",
   "execution_count": 8,
   "id": "da148986-041f-432c-a539-35fa40aa1462",
   "metadata": {},
   "outputs": [
    {
     "data": {
      "text/plain": [
       "precipitation     390\n",
       "mean_temp           0\n",
       "min_temp            0\n",
       "max_temp            0\n",
       "snow_depth       1752\n",
       "dtype: int64"
      ]
     },
     "execution_count": 8,
     "metadata": {},
     "output_type": "execute_result"
    }
   ],
   "source": [
    "df.isna().sum()"
   ]
  },
  {
   "cell_type": "code",
   "execution_count": 9,
   "id": "6cbe8bc3-d2fc-446e-8138-f77f734fbd14",
   "metadata": {},
   "outputs": [],
   "source": [
    "# filling preciptation/snow with 0\n",
    "df['precipitation'] = df['precipitation'].fillna(0)\n",
    "df['snow_depth'] = df['snow_depth'].fillna(0)"
   ]
  },
  {
   "cell_type": "code",
   "execution_count": 10,
   "id": "ed1a8468-9925-4fbd-98d1-16062df6884c",
   "metadata": {},
   "outputs": [
    {
     "data": {
      "text/plain": [
       "precipitation    0\n",
       "mean_temp        0\n",
       "min_temp         0\n",
       "max_temp         0\n",
       "snow_depth       0\n",
       "dtype: int64"
      ]
     },
     "execution_count": 10,
     "metadata": {},
     "output_type": "execute_result"
    }
   ],
   "source": [
    "df.isna().sum()"
   ]
  },
  {
   "cell_type": "markdown",
   "id": "ae9830d1-1116-4610-878b-f9e3eb5105d3",
   "metadata": {},
   "source": [
    "## Part 2) Answer the Questions with Visualizations (Using the Correct Frequency)\n",
    "- For each of the following questions, make a new copy of the dataframe resampled to the correct frequency for the question.\n",
    "- Plot the feature that the question is asking about.\n",
    "    - If there is a specific time period, plot only that time period. <br>\n",
    "    \n",
    "> Note: you may want to make a temporary DataFrame that you will use to answer this question only."
   ]
  },
  {
   "cell_type": "markdown",
   "id": "70781b20-86ea-4b8f-8d09-070c674f2d32",
   "metadata": {},
   "source": [
    "## Q1: What month had the most precipitation between 2000 through 2010?\n",
    "- Resample the data as Monthly frequency.\n",
    "- Find the date and corresponding value for the max precipitation.\n",
    "- Plot the feature and time period that corresponds to the question.\n",
    "    - Make sure to meet the \"Visualization Requirements\" below!\n",
    "- Determine the date and value for the most precipitation (the max precipitation).\n",
    "- Add a vertical line at this date with a label that says the date (using date format: \"April 2000\") and the max precipitation value.\n",
    "    - Make sure to add a legend so that your label is visible.\n",
    "\n",
    "### Q1 Visualization Requirements\n",
    "- Use a combination of pandas, matplotlib tick formatters, tick locators, and the fig.autofmt_xdate method to:\n",
    "    - Create a wide figure (e.g. figsize=(12,3))\n",
    "        - With a title of \"Precipitation for 2000-2010\"\n",
    "        - With a ylabel of \"Inches\"\n",
    "- Customize the major xaxis ticks to:\n",
    "    - Have major xaxis ticks every 1 year.\n",
    "    - Use 4-digit years for the labels\n",
    "    - Have the major ticks' labels rotated 90 degrees.\n",
    "- Customize the minor xaxis ticks to:\n",
    "    - Have minor xaxis ticks every 3 months\n",
    "    - Do not label the minor ticks."
   ]
  },
  {
   "cell_type": "code",
   "execution_count": 60,
   "id": "13cb7e9e-c7f7-4f65-9421-d6063fdef982",
   "metadata": {},
   "outputs": [],
   "source": [
    "format_dict = { 'minor_loc_month': 3,\n",
    "                'minor_fmt_month': \"\",\n",
    "                'major_loc_year' : True,\n",
    "                'major_fmt_year' : \"%Y\",\n",
    "                'label_year_rotation':90,\n",
    "}"
   ]
  },
  {
   "cell_type": "code",
   "execution_count": 112,
   "id": "2b91263c-23bf-40cb-80f7-ada140502054",
   "metadata": {},
   "outputs": [
    {
     "data": {
      "text/plain": [
       "date\n",
       "2000-01-01    0.0\n",
       "2000-01-02    0.2\n",
       "2000-01-03    6.0\n",
       "2000-01-04    0.2\n",
       "2000-01-05    0.8\n",
       "             ... \n",
       "2010-12-27    5.0\n",
       "2010-12-28    0.4\n",
       "2010-12-29    1.4\n",
       "2010-12-30    0.0\n",
       "2010-12-31    0.0\n",
       "Name: precipitation, Length: 4018, dtype: float64"
      ]
     },
     "execution_count": 112,
     "metadata": {},
     "output_type": "execute_result"
    }
   ],
   "source": [
    "ts = df.loc['2000':'2010','precipitation'].copy()\n",
    "ts"
   ]
  },
  {
   "cell_type": "code",
   "execution_count": 113,
   "id": "ea019674-20e3-4118-86c2-68e0e91af511",
   "metadata": {},
   "outputs": [
    {
     "data": {
      "text/plain": [
       "date\n",
       "2000-01-01    14.3\n",
       "2000-02-01    62.2\n",
       "2000-03-01    13.4\n",
       "2000-04-01    71.8\n",
       "2000-05-01    68.4\n",
       "Freq: MS, Name: Resampled, dtype: float64"
      ]
     },
     "execution_count": 113,
     "metadata": {},
     "output_type": "execute_result"
    }
   ],
   "source": [
    "ts_MS_res = ts.resample(\"MS\").sum()\n",
    "ts_MS_res.name = 'Resampled'\n",
    "ts_MS_res.head()"
   ]
  },
  {
   "cell_type": "markdown",
   "id": "0648e814-87a5-48f6-95d9-069e54ca4465",
   "metadata": {},
   "source": [
    "## Q1: What month had the most precipitation between 2000 through 2010?"
   ]
  },
  {
   "cell_type": "code",
   "execution_count": 117,
   "id": "5dd7ad2e-edba-4a84-a4c3-ca36c8e5053a",
   "metadata": {},
   "outputs": [],
   "source": [
    "date_max_precip = ts_MS_res.idxmax()\n",
    "max_precip = ts_MS_res.max()"
   ]
  },
  {
   "cell_type": "code",
   "execution_count": 130,
   "id": "7398d75f-8543-49b8-a044-2e58065a1625",
   "metadata": {},
   "outputs": [
    {
     "data": {
      "image/png": "[encoded data removed]",
      "text/plain": [
       "<Figure size 1200x300 with 1 Axes>"
      ]
     },
     "metadata": {},
     "output_type": "display_data"
    }
   ],
   "source": [
    "## creating our tick locators and formatters\n",
    "## for minor month ticks\n",
    "# create the locator to place ticks every 3 months.\n",
    "loc_3months = mdates.MonthLocator(interval=3)\n",
    "fmt_months = mdates.DateFormatter(\"\")\n",
    "## for major year ticks\n",
    "loc_year = mdates.YearLocator()\n",
    "fmt_year = mdates.DateFormatter(\"%Y\")\n",
    "## Make the fig and axis first\n",
    "# plot the time series with pandas\n",
    "fig, ax = plt.subplots(figsize=(12,3))\n",
    "ax.plot(ts_MS_res.index,ts_MS_res.values)\n",
    "## customize minor ticks\n",
    "ax.xaxis.set_minor_locator(loc_3months)\n",
    "ax.xaxis.set_minor_formatter(fmt_months)\n",
    "## customize major ticks\n",
    "ax.axvline(date_max_precip,color='forestgreen',ls='--', label= \"Max Precipitation\") \n",
    "ax.xaxis.set_major_locator(loc_year)\n",
    "ax.xaxis.set_major_formatter(fmt_year)\n",
    "## Making major/minor gridlines visually distinct\n",
    "ax.grid(which='minor',axis='x',ls=\":\")\n",
    "ax.grid(which='major',axis='x',color='k')\n",
    "ax.set_ylabel('inches')\n",
    "fig.autofmt_xdate(rotation=90,ha='center')"
   ]
  },
  {
   "cell_type": "code",
   "execution_count": 65,
   "id": "53de161c-34c9-48f4-a33b-1fffe866eaa7",
   "metadata": {},
   "outputs": [
    {
     "name": "stdout",
     "output_type": "stream",
     "text": [
      "The highest montly preciptation was 174.8 inches, which occured on October .\n"
     ]
    }
   ],
   "source": [
    "print(f\"The highest montly preciptation was {max_precip} inches, which occured on {date_max_precip.strftime('%B')} .\")"
   ]
  },
  {
   "cell_type": "markdown",
   "id": "945509e6-ff1e-461c-8ee2-56273502134d",
   "metadata": {},
   "source": [
    "# Q2: Which year between 2000-2020 had the coolest average temperature?"
   ]
  },
  {
   "cell_type": "code",
   "execution_count": 94,
   "id": "b7d55596-f578-4938-b4d8-7afc37506304",
   "metadata": {},
   "outputs": [],
   "source": [
    "ts = df['min_temp'].copy()"
   ]
  },
  {
   "cell_type": "code",
   "execution_count": 95,
   "id": "89db4155-8225-4192-ad63-21fa76255ed3",
   "metadata": {},
   "outputs": [
    {
     "data": {
      "text/plain": [
       "date\n",
       "1979-12-31    -7.5\n",
       "1980-12-31    -6.0\n",
       "1981-12-31   -11.8\n",
       "1982-12-31   -10.1\n",
       "1983-12-31    -7.0\n",
       "Freq: A-DEC, Name: Year Resampled, dtype: float64"
      ]
     },
     "execution_count": 95,
     "metadata": {},
     "output_type": "execute_result"
    }
   ],
   "source": [
    "ts_Y_res = ts.resample(\"Y\").min()\n",
    "ts_Y_res.name = 'Year Resampled'\n",
    "ts_Y_res.head()"
   ]
  },
  {
   "cell_type": "code",
   "execution_count": 96,
   "id": "ead884f0-4d5f-4911-8506-3f0fccacb023",
   "metadata": {},
   "outputs": [],
   "source": [
    "date_min_temp = ts_Y_res.idxmin()\n",
    "min_temp = ts_Y_res.min()"
   ]
  },
  {
   "cell_type": "code",
   "execution_count": 97,
   "id": "1d0489f8-eb84-475b-9b1e-a3dfb2e6ab75",
   "metadata": {},
   "outputs": [
    {
     "name": "stdout",
     "output_type": "stream",
     "text": [
      "The coolest year was -11.8 inches, which occured on 1981 .\n"
     ]
    }
   ],
   "source": [
    "print(f\"The coolest year was {min_temp} inches, which occured on {date_min_temp.strftime('%Y')} .\")"
   ]
  },
  {
   "cell_type": "code",
   "execution_count": 98,
   "id": "ac8673ab-283c-46cb-82ad-d68695cc304b",
   "metadata": {},
   "outputs": [
    {
     "data": {
      "text/plain": [
       "date\n",
       "1979-12-31    6.217808\n",
       "1980-12-31    6.587978\n",
       "1981-12-31    6.574795\n",
       "1982-12-31    7.006301\n",
       "1983-12-31    7.227397\n",
       "Freq: A-DEC, Name: Year Resampled, dtype: float64"
      ]
     },
     "execution_count": 98,
     "metadata": {},
     "output_type": "execute_result"
    }
   ],
   "source": [
    "ts_Y_res = ts.resample(\"Y\").mean()\n",
    "ts_Y_res.name = 'Year Resampled'\n",
    "ts_Y_res.head()"
   ]
  },
  {
   "cell_type": "code",
   "execution_count": 109,
   "id": "1c85720c-2138-41d1-8fac-6ba78b07d26d",
   "metadata": {},
   "outputs": [
    {
     "data": {
      "image/png": "[encoded data removed]",
      "text/plain": [
       "<Figure size 1200x300 with 1 Axes>"
      ]
     },
     "metadata": {},
     "output_type": "display_data"
    }
   ],
   "source": [
    "## creating our tick locators and formatters\n",
    "## for minor month ticks\n",
    "# create the locator to place ticks every 3 months.\n",
    "loc_5y = mdates.YearLocator(5)\n",
    "# fmt_years = mdates.DateFormatter(\"\")\n",
    "## for major year ticks\n",
    "loc_year = mdates.YearLocator()\n",
    "fmt_year = mdates.DateFormatter(\"%y\")\n",
    "## Make the fig and axis first\n",
    "# plot the time series with pandas\n",
    "fig, ax = plt.subplots(figsize=(12,3))\n",
    "ts_Y_res.plot(ax=ax,title='Average Temperature',marker='.',lw=1)\n",
    "## customize minor ticks\n",
    "ax.xaxis.set_minor_locator(loc_5y)\n",
    "ax.xaxis.set_minor_formatter(fmt_years)\n",
    "## customize major ticks\n",
    "# ax.xaxis.set_major_locator(loc_year)\n",
    "# ax.xaxis.set_major_formatter(fmt_year)\n",
    "## Making major/minor gridlines visually distinct\n",
    "ax.set_ylabel('Degrees')\n",
    "ax.grid(which='minor',axis='x',ls=\":\")\n",
    "ax.grid(which='major',axis='x',color='k')\n",
    "fig.autofmt_xdate(rotation=90,ha='center')"
   ]
  },
  {
   "cell_type": "code",
   "execution_count": null,
   "id": "ee802b49-6071-4c18-83b5-bfd8efe9a1c2",
   "metadata": {},
   "outputs": [],
   "source": []
  }
 ],
 "metadata": {
  "kernelspec": {
   "display_name": "Python 3 (ipykernel)",
   "language": "python",
   "name": "python3"
  },
  "language_info": {
   "codemirror_mode": {
    "name": "ipython",
    "version": 3
   },
   "file_extension": ".py",
   "mimetype": "text/x-python",
   "name": "python",
   "nbconvert_exporter": "python",
   "pygments_lexer": "ipython3",
   "version": "3.9.15"
  }
 },
 "nbformat": 4,
 "nbformat_minor": 5
}
